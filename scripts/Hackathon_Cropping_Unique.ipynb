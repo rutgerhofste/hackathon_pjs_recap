{
 "cells": [
  {
   "cell_type": "markdown",
   "metadata": {},
   "source": [
    "# Import packages"
   ]
  },
  {
   "cell_type": "code",
   "execution_count": 1,
   "metadata": {},
   "outputs": [],
   "source": [
    "import numpy as np \n",
    "from matplotlib import pyplot as plt\n",
    "import pandas as pd\n",
    "import geopandas as gpd\n",
    "import gdal\n",
    "from shapely.geometry import Point, Polygon, box, MultiPolygon\n",
    "import os\n",
    "import rasterio\n",
    "from rasterio.mask import mask\n",
    "cwd = os.getcwd()"
   ]
  },
  {
   "cell_type": "markdown",
   "metadata": {},
   "source": [
    "Turn on features"
   ]
  },
  {
   "cell_type": "code",
   "execution_count": 2,
   "metadata": {},
   "outputs": [],
   "source": [
    "%matplotlib inline"
   ]
  },
  {
   "cell_type": "markdown",
   "metadata": {},
   "source": [
    "# Define constants"
   ]
  },
  {
   "cell_type": "markdown",
   "metadata": {},
   "source": [
    "json file locations"
   ]
  },
  {
   "cell_type": "code",
   "execution_count": 3,
   "metadata": {},
   "outputs": [],
   "source": [
    "json_file = cwd + '/1/Building info/training_bbox.geojson'"
   ]
  },
  {
   "cell_type": "markdown",
   "metadata": {},
   "source": [
    "get image path"
   ]
  },
  {
   "cell_type": "code",
   "execution_count": 4,
   "metadata": {},
   "outputs": [],
   "source": [
    "image_path = cwd + '/1/After/Modified'\n",
    "os.chdir(image_path)"
   ]
  },
  {
   "cell_type": "markdown",
   "metadata": {},
   "source": [
    "extract images from dir"
   ]
  },
  {
   "cell_type": "code",
   "execution_count": 5,
   "metadata": {},
   "outputs": [],
   "source": [
    "image_list_raw = os.listdir(os.getcwd())\n",
    "\n",
    "image_list = [file for file in image_list_raw if file != '.DS_Store']"
   ]
  },
  {
   "cell_type": "code",
   "execution_count": null,
   "metadata": {},
   "outputs": [],
   "source": []
  },
  {
   "cell_type": "markdown",
   "metadata": {},
   "source": [
    "# Geojson"
   ]
  },
  {
   "cell_type": "markdown",
   "metadata": {},
   "source": [
    "Read in geojson file"
   ]
  },
  {
   "cell_type": "code",
   "execution_count": 6,
   "metadata": {},
   "outputs": [],
   "source": [
    "df_training_raw = gpd.read_file(json_file)"
   ]
  },
  {
   "cell_type": "markdown",
   "metadata": {},
   "source": [
    "Remove lines without geometries"
   ]
  },
  {
   "cell_type": "code",
   "execution_count": 7,
   "metadata": {},
   "outputs": [],
   "source": [
    "df_training = df_training_raw[df_training_raw.geometry.notna()]"
   ]
  },
  {
   "cell_type": "code",
   "execution_count": 8,
   "metadata": {},
   "outputs": [
    {
     "data": {
      "text/html": [
       "<div>\n",
       "<style scoped>\n",
       "    .dataframe tbody tr th:only-of-type {\n",
       "        vertical-align: middle;\n",
       "    }\n",
       "\n",
       "    .dataframe tbody tr th {\n",
       "        vertical-align: top;\n",
       "    }\n",
       "\n",
       "    .dataframe thead th {\n",
       "        text-align: right;\n",
       "    }\n",
       "</style>\n",
       "<table border=\"1\" class=\"dataframe\">\n",
       "  <thead>\n",
       "    <tr style=\"text-align: right;\">\n",
       "      <th></th>\n",
       "      <th>OBJECTID</th>\n",
       "      <th>osm_way_id</th>\n",
       "      <th>name</th>\n",
       "      <th>building</th>\n",
       "      <th>_damage</th>\n",
       "      <th>geometry</th>\n",
       "    </tr>\n",
       "  </thead>\n",
       "  <tbody>\n",
       "    <tr>\n",
       "      <th>0</th>\n",
       "      <td>2</td>\n",
       "      <td>7553886</td>\n",
       "      <td>Auto Depot</td>\n",
       "      <td>yes</td>\n",
       "      <td>none</td>\n",
       "      <td>POLYGON ((493363.4892000108 1993911.488412196,...</td>\n",
       "    </tr>\n",
       "    <tr>\n",
       "      <th>1</th>\n",
       "      <td>4</td>\n",
       "      <td>7554274</td>\n",
       "      <td>Island Finance</td>\n",
       "      <td>commercial</td>\n",
       "      <td>significant</td>\n",
       "      <td>POLYGON ((494159.3213000094 1993344.12256257, ...</td>\n",
       "    </tr>\n",
       "    <tr>\n",
       "      <th>2</th>\n",
       "      <td>5</td>\n",
       "      <td>7564898</td>\n",
       "      <td>None</td>\n",
       "      <td>residential</td>\n",
       "      <td>none</td>\n",
       "      <td>POLYGON ((486365.6538000216 1995800.083562638,...</td>\n",
       "    </tr>\n",
       "    <tr>\n",
       "      <th>3</th>\n",
       "      <td>7</td>\n",
       "      <td>7575764</td>\n",
       "      <td>None</td>\n",
       "      <td>yes</td>\n",
       "      <td>partial</td>\n",
       "      <td>POLYGON ((495659.9875000064 1995598.881562633,...</td>\n",
       "    </tr>\n",
       "    <tr>\n",
       "      <th>4</th>\n",
       "      <td>8</td>\n",
       "      <td>7580073</td>\n",
       "      <td>None</td>\n",
       "      <td>yes</td>\n",
       "      <td>none</td>\n",
       "      <td>POLYGON ((493368.3394000101 1996769.319962667,...</td>\n",
       "    </tr>\n",
       "  </tbody>\n",
       "</table>\n",
       "</div>"
      ],
      "text/plain": [
       "   OBJECTID osm_way_id            name     building      _damage  \\\n",
       "0         2    7553886      Auto Depot          yes         none   \n",
       "1         4    7554274  Island Finance   commercial  significant   \n",
       "2         5    7564898            None  residential         none   \n",
       "3         7    7575764            None          yes      partial   \n",
       "4         8    7580073            None          yes         none   \n",
       "\n",
       "                                            geometry  \n",
       "0  POLYGON ((493363.4892000108 1993911.488412196,...  \n",
       "1  POLYGON ((494159.3213000094 1993344.12256257, ...  \n",
       "2  POLYGON ((486365.6538000216 1995800.083562638,...  \n",
       "3  POLYGON ((495659.9875000064 1995598.881562633,...  \n",
       "4  POLYGON ((493368.3394000101 1996769.319962667,...  "
      ]
     },
     "execution_count": 8,
     "metadata": {},
     "output_type": "execute_result"
    }
   ],
   "source": [
    "df_training.head()"
   ]
  },
  {
   "cell_type": "markdown",
   "metadata": {},
   "source": [
    "# .tiff file"
   ]
  },
  {
   "cell_type": "markdown",
   "metadata": {},
   "source": [
    "Open .tiff file"
   ]
  },
  {
   "cell_type": "code",
   "execution_count": 9,
   "metadata": {},
   "outputs": [
    {
     "data": {
      "text/plain": [
       "['georeference_after%2FRescUAV_17917_Pt.Blanche_modified.tif',\n",
       " 'georeference_after%2FRescUAV_24917_Ebenezer_modified.tif',\n",
       " 'georeference_after%2FRescUAV_29917_Almond_modified.tif',\n",
       " 'georeference_after%2FRescUAV_29917_Almond_modified (1).tif',\n",
       " 'georeference_after%2FRescUAV_29917_ColeW_modified.tif',\n",
       " 'georeference_after%2FRescUAV_23917_ColeHill_modified.tif',\n",
       " 'georeference_after%2FRescUAV_13917_PhilNE_modified.tif',\n",
       " 'georeference_after%2FRescUAV_17917_Middle_modified.tif',\n",
       " 'georeference_after%2FRescUAV_21017_BillyFolly_modified.tif',\n",
       " 'georeference_after%2FRescUAV_16917_Pt.Blanche3_modified.tif',\n",
       " 'georeference_after%2FRescUAV_21017_Beacon_modified.tif',\n",
       " 'georeference_after%2FRescUAV_20917_PhilipsBurgE_modified.tif',\n",
       " 'georeference_after%2FRescUAV_11917_Lowlands_modified.tif',\n",
       " 'georeference_after%2FRescUAV_26917_StPeters_modified.tif',\n",
       " 'georeference_after%2FRescUAV_21917_Illidge_modified.tif',\n",
       " 'georeference_after%2FRescUAV_22917_DutchCul_modified.tif',\n",
       " 'georeference_after%2FRescUAV_29917_ColeE_modified.tif',\n",
       " 'georeference_after%2FRescUAV_21917_Pond_modified.tif',\n",
       " 'georeference_after%2FRescUAV_29917_CayBay_modified.tif',\n",
       " 'georeference_after%2FRescUAV_14917_PtBlance2_modified.tif',\n",
       " 'georeference_after%2FRescUAV_21917_OverThePond_modified.tif',\n",
       " 'georeference_after%2FRescUAV_27917_SthReward_modified.tif',\n",
       " 'georeference_after%2FRescUAV_18917_Belvedere_modified.tif',\n",
       " 'georeference_after%2FRescUAV_25917_StPetersE_modified.tif',\n",
       " 'georeference_after%2FRescUAV_31017_MtWilliam_modified.tif',\n",
       " 'georeference_after%2FRescUAV_28917_CayHill_modified.tif',\n",
       " 'georeference_after%2FRescUAV_14917_PhilipsburgNW_modified.tif',\n",
       " 'georeference_after%2FRescUAV_27917_StJohns_modified.tif',\n",
       " 'georeference_after%2FRescUAV_17917_Sonesta_modified.tif',\n",
       " 'georeference_after%2FRescUAV_12917_Philipsburg.tif',\n",
       " 'georeference_after%2FRescUAV_21917_Madams_modified.tif',\n",
       " 'georeference_after%2FRescUAV_23917_Cul_modified.tif',\n",
       " 'georeference_after%2FRescUAV_29917_ColeM_modified.tif',\n",
       " 'georeference_after%2FRescUAV_12917_Philipsburg_modified.tif',\n",
       " 'georeference_after%2FRescUAV_21017_Simpson_modified.tif']"
      ]
     },
     "execution_count": 9,
     "metadata": {},
     "output_type": "execute_result"
    }
   ],
   "source": [
    "image_list"
   ]
  },
  {
   "cell_type": "code",
   "execution_count": 10,
   "metadata": {},
   "outputs": [],
   "source": [
    "def image_extent(file):\n",
    "\n",
    "    # get width and heigth\n",
    "    width = image.RasterXSize\n",
    "    height = image.RasterYSize\n",
    "\n",
    "    # get geotransform\n",
    "    gt = image.GetGeoTransform()\n",
    "\n",
    "    # get image extent\n",
    "    minx = gt[0]\n",
    "    miny = gt[3] + width*gt[4] + height*gt[5] \n",
    "    maxx = gt[0] + width*gt[1] + height*gt[2]\n",
    "    maxy = gt[3] \n",
    "\n",
    "    \n",
    "    return [minx,maxx,maxy,miny]"
   ]
  },
  {
   "cell_type": "code",
   "execution_count": 11,
   "metadata": {},
   "outputs": [],
   "source": [
    "def create_bounding_box(extent):\n",
    "\n",
    "    return Polygon([[extent[0], extent[2]],\\\n",
    "         [extent[0], extent[3]],\\\n",
    "         [extent[1], extent[3]],\\\n",
    "         [extent[1], extent[2]]])"
   ]
  },
  {
   "cell_type": "code",
   "execution_count": 12,
   "metadata": {},
   "outputs": [],
   "source": [
    "def extract_house(df, file, image_name):\n",
    "\n",
    "    #Define set of polygons to clip\n",
    "    geomSet = df['geometry'].geometry\n",
    "    graphcount = 0\n",
    "    black_list = []\n",
    "\n",
    "    # the polygon GeoJSON geometry\n",
    "    for geoms in geomSet:\n",
    "        # load the raster, mask it by the polygon and crop it\n",
    "        with rasterio.open(file) as src:\n",
    "            out_image, out_transform = mask(src, MultiPolygon([geoms]), crop=True)\n",
    "            out_meta = src.meta.copy()\n",
    "\n",
    "        percentage_black = np.count_nonzero(out_image==0)/ (3* out_image.shape[1] * out_image.shape[2])\n",
    "        black_list.append(percentage_black)\n",
    "        if percentage_black < 0.2:\n",
    "\n",
    "            # save the resulting raster  \n",
    "            out_meta.update({\"driver\": \"GTiff\",\n",
    "                \"height\": out_image.shape[1],\n",
    "                \"width\": out_image.shape[2],\n",
    "            \"transform\": out_transform})\n",
    "\n",
    "            graphcount = graphcount + 1\n",
    "            output_path =  '/Users/apancham002/Documents/Projecten/Hackathon/full_images_unique/'+\\\n",
    "                            image_name[19:-4] + '_'+ str(graphcount) + '_'+ \"masked.jpg\" \n",
    "#             print(output_path)\n",
    "#             print(output_path)\n",
    "            with rasterio.open(output_path, \"w\", **out_meta) as dest:\n",
    "                dest.write(out_image)\n",
    "    return black_list"
   ]
  },
  {
   "cell_type": "code",
   "execution_count": 13,
   "metadata": {},
   "outputs": [
    {
     "name": "stdout",
     "output_type": "stream",
     "text": [
      "0: georeference_after%2FRescUAV_17917_Pt.Blanche_modified.tif\n",
      "32\n",
      "1: georeference_after%2FRescUAV_24917_Ebenezer_modified.tif\n",
      "1169\n",
      "2: georeference_after%2FRescUAV_29917_Almond_modified.tif\n",
      "1178\n",
      "3: georeference_after%2FRescUAV_29917_Almond_modified (1).tif\n",
      "1178\n",
      "4: georeference_after%2FRescUAV_29917_ColeW_modified.tif\n",
      "1211\n",
      "5: georeference_after%2FRescUAV_23917_ColeHill_modified.tif\n",
      "1462\n",
      "6: georeference_after%2FRescUAV_13917_PhilNE_modified.tif\n",
      "1965\n",
      "7: georeference_after%2FRescUAV_17917_Middle_modified.tif\n",
      "2283\n",
      "8: georeference_after%2FRescUAV_21017_BillyFolly_modified.tif\n",
      "2440\n",
      "9: georeference_after%2FRescUAV_16917_Pt.Blanche3_modified.tif\n",
      "2606\n",
      "10: georeference_after%2FRescUAV_21017_Beacon_modified.tif\n",
      "2606\n",
      "11: georeference_after%2FRescUAV_20917_PhilipsBurgE_modified.tif\n",
      "3148\n",
      "12: georeference_after%2FRescUAV_11917_Lowlands_modified.tif\n",
      "3174\n",
      "13: georeference_after%2FRescUAV_26917_StPeters_modified.tif\n",
      "3794\n",
      "14: georeference_after%2FRescUAV_21917_Illidge_modified.tif\n",
      "4005\n",
      "15: georeference_after%2FRescUAV_22917_DutchCul_modified.tif\n",
      "4263\n",
      "16: georeference_after%2FRescUAV_29917_ColeE_modified.tif\n",
      "4395\n",
      "17: georeference_after%2FRescUAV_21917_Pond_modified.tif\n",
      "4578\n",
      "18: georeference_after%2FRescUAV_29917_CayBay_modified.tif\n",
      "4923\n",
      "19: georeference_after%2FRescUAV_14917_PtBlance2_modified.tif\n",
      "4934\n",
      "20: georeference_after%2FRescUAV_21917_OverThePond_modified.tif\n",
      "5063\n",
      "21: georeference_after%2FRescUAV_27917_SthReward_modified.tif\n",
      "5111\n",
      "22: georeference_after%2FRescUAV_18917_Belvedere_modified.tif\n",
      "5488\n",
      "23: georeference_after%2FRescUAV_25917_StPetersE_modified.tif\n",
      "5521\n",
      "24: georeference_after%2FRescUAV_31017_MtWilliam_modified.tif\n",
      "5689\n",
      "25: georeference_after%2FRescUAV_28917_CayHill_modified.tif\n",
      "6079\n",
      "26: georeference_after%2FRescUAV_14917_PhilipsburgNW_modified.tif\n",
      "6488\n",
      "27: georeference_after%2FRescUAV_27917_StJohns_modified.tif\n",
      "6634\n",
      "28: georeference_after%2FRescUAV_17917_Sonesta_modified.tif\n",
      "6652\n",
      "29: georeference_after%2FRescUAV_12917_Philipsburg.tif\n",
      "7180\n",
      "30: georeference_after%2FRescUAV_21917_Madams_modified.tif\n",
      "7242\n",
      "31: georeference_after%2FRescUAV_23917_Cul_modified.tif\n",
      "7244\n",
      "32: georeference_after%2FRescUAV_29917_ColeM_modified.tif\n",
      "7260\n",
      "33: georeference_after%2FRescUAV_12917_Philipsburg_modified.tif\n",
      "7268\n",
      "34: georeference_after%2FRescUAV_21017_Simpson_modified.tif\n",
      "7268\n"
     ]
    }
   ],
   "source": [
    "list_df = []\n",
    "unique_building_list = []\n",
    "\n",
    "for ind, image_name in enumerate(image_list):\n",
    "    print(\"{}: {}\".format(ind, image_name))\n",
    "    # get abs image path\n",
    "    abs_image_path = os.path.join(image_path,image_name)\n",
    "    \n",
    "    # open file\n",
    "    image = gdal.Open(abs_image_path)\n",
    "    \n",
    "    # get image extent\n",
    "    extent = image_extent(image)\n",
    "    \n",
    "    # get bounding box\n",
    "    bounding_box = create_bounding_box(extent)\n",
    "    \n",
    "    # get overlap as first filter\n",
    "    df_overlap = df_training[df_training.geometry.centroid.within(bounding_box)]\n",
    "    \n",
    "    df_overlap = df_overlap[~df_overlap.OBJECTID.isin(unique_building_list)]\n",
    "    \n",
    "    unique_building_list.extend(df_overlap.OBJECTID.values)\n",
    "    print(len(unique_building_list))\n",
    "    damage_list = extract_house(df_overlap, abs_image_path, image_name)\n",
    "    \n",
    "    df_overlap['damage_list'] = damage_list\n",
    "    \n",
    "    df_csv = df_overlap[df_overlap.damage_list < 0.2].reset_index(drop=True).reset_index()\\\n",
    "        .rename(columns={'index':'number', '_damage':'tags'})\n",
    "    \n",
    "    df_csv['image_name'] = image_name[19:-4] + '_' + (df_csv.number + 1).astype(str) + '_'+ 'masked'\n",
    "    \n",
    "    list_df.append(df_csv[['image_name','tags']])"
   ]
  },
  {
   "cell_type": "code",
   "execution_count": 14,
   "metadata": {},
   "outputs": [],
   "source": [
    "df_overview = pd.concat(list_df)"
   ]
  },
  {
   "cell_type": "code",
   "execution_count": null,
   "metadata": {},
   "outputs": [],
   "source": [
    "# DutchCul and is overlapping with:\n",
    "# - Cul\n",
    "# - Colehill\n",
    "# - Cayhill\n",
    "\n",
    "# testfile1 is Middle and is overlapping with\n",
    "# - MtWilliam"
   ]
  },
  {
   "cell_type": "code",
   "execution_count": 15,
   "metadata": {},
   "outputs": [],
   "source": [
    "df_overview_filtered = df_overview[~((df_overview.image_name.str.contains(r'2FRescUAV_23917_Cul_modified')) | \\\n",
    "             (df_overview.image_name.str.contains(r'2FRescUAV_22917_DutchCul_modified')) |\\\n",
    "             (df_overview.image_name.str.contains(r'2FRescUAV_23917_ColeHill_modified')) |\\\n",
    "            (df_overview.image_name.str.contains(r'2FRescUAV_28917_CayHill_modified')) |\\\n",
    "            (df_overview.image_name.str.contains(r'2FRescUAV_17917_Middle_modified')) |\\\n",
    "           (df_overview.image_name.str.contains(r'2FRescUAV_31017_MtWilliam_modified'))) ]\n"
   ]
  },
  {
   "cell_type": "code",
   "execution_count": 16,
   "metadata": {},
   "outputs": [],
   "source": [
    "df_overview_filtered.query('tags!=\"unknown\"')\\\n",
    "                 .to_csv(r'/Users/apancham002/Documents/Projecten/Hackathon/full_images_unique/unique_label.csv',\\\n",
    "                  index=False)"
   ]
  }
 ],
 "metadata": {
  "kernelspec": {
   "display_name": "Python 3",
   "language": "python",
   "name": "python3"
  },
  "language_info": {
   "codemirror_mode": {
    "name": "ipython",
    "version": 3
   },
   "file_extension": ".py",
   "mimetype": "text/x-python",
   "name": "python",
   "nbconvert_exporter": "python",
   "pygments_lexer": "ipython3",
   "version": "3.6.4"
  }
 },
 "nbformat": 4,
 "nbformat_minor": 2
}
