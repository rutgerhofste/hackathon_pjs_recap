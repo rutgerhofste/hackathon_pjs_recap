{
 "cells": [
  {
   "cell_type": "markdown",
   "metadata": {},
   "source": [
    "# Import packages"
   ]
  },
  {
   "cell_type": "code",
   "execution_count": 1,
   "metadata": {},
   "outputs": [],
   "source": [
    "import numpy as np \n",
    "from matplotlib import pyplot as plt\n",
    "import pandas as pd\n",
    "import geopandas as gpd\n",
    "import gdal\n",
    "from shapely.geometry import Point, Polygon, box, MultiPolygon\n",
    "import os\n",
    "import rasterio\n",
    "from rasterio.mask import mask\n",
    "cwd = os.getcwd()"
   ]
  },
  {
   "cell_type": "markdown",
   "metadata": {},
   "source": [
    "Turn on features"
   ]
  },
  {
   "cell_type": "code",
   "execution_count": 2,
   "metadata": {},
   "outputs": [],
   "source": [
    "%matplotlib inline"
   ]
  },
  {
   "cell_type": "markdown",
   "metadata": {},
   "source": [
    "# Define constants"
   ]
  },
  {
   "cell_type": "markdown",
   "metadata": {},
   "source": [
    "json file locations"
   ]
  },
  {
   "cell_type": "code",
   "execution_count": 3,
   "metadata": {},
   "outputs": [],
   "source": [
    "# \n",
    "json_file = cwd + '/1/Building info/testdata1_bbox.geojson'\n",
    "\n",
    "\n"
   ]
  },
  {
   "cell_type": "markdown",
   "metadata": {},
   "source": [
    "get image path"
   ]
  },
  {
   "cell_type": "code",
   "execution_count": 4,
   "metadata": {},
   "outputs": [],
   "source": [
    "image_path = cwd + '/1/After/Modified'\n",
    "os.chdir(image_path)"
   ]
  },
  {
   "cell_type": "markdown",
   "metadata": {},
   "source": [
    "extract images from dir"
   ]
  },
  {
   "cell_type": "code",
   "execution_count": 6,
   "metadata": {},
   "outputs": [],
   "source": [
    "image_list_raw = os.listdir(os.getcwd())\n",
    "\n",
    "image_list = [file for file in image_list_raw if file in ['georeference_after%2FRescUAV_22917_DutchCul_modified.tif',\n",
    "                                                            'georeference_after%2FRescUAV_17917_Middle_modified.tif']]"
   ]
  },
  {
   "cell_type": "code",
   "execution_count": 7,
   "metadata": {},
   "outputs": [
    {
     "data": {
      "text/plain": [
       "['georeference_after%2FRescUAV_17917_Middle_modified.tif',\n",
       " 'georeference_after%2FRescUAV_22917_DutchCul_modified.tif']"
      ]
     },
     "execution_count": 7,
     "metadata": {},
     "output_type": "execute_result"
    }
   ],
   "source": [
    "image_list"
   ]
  },
  {
   "cell_type": "markdown",
   "metadata": {},
   "source": [
    "# Geojson"
   ]
  },
  {
   "cell_type": "markdown",
   "metadata": {},
   "source": [
    "Read in geojson file"
   ]
  },
  {
   "cell_type": "code",
   "execution_count": 8,
   "metadata": {},
   "outputs": [],
   "source": [
    "df_training_raw = gpd.read_file(json_file)"
   ]
  },
  {
   "cell_type": "markdown",
   "metadata": {},
   "source": [
    "Remove lines without geometries"
   ]
  },
  {
   "cell_type": "code",
   "execution_count": 9,
   "metadata": {},
   "outputs": [],
   "source": [
    "df_training = df_training_raw[df_training_raw.geometry.notna()]"
   ]
  },
  {
   "cell_type": "code",
   "execution_count": null,
   "metadata": {},
   "outputs": [],
   "source": []
  },
  {
   "cell_type": "markdown",
   "metadata": {},
   "source": [
    "# .tiff file"
   ]
  },
  {
   "cell_type": "markdown",
   "metadata": {},
   "source": [
    "Open .tiff file"
   ]
  },
  {
   "cell_type": "code",
   "execution_count": 11,
   "metadata": {},
   "outputs": [],
   "source": [
    "def image_extent(file):\n",
    "\n",
    "    # get width and heigth\n",
    "    width = image.RasterXSize\n",
    "    height = image.RasterYSize\n",
    "\n",
    "    # get geotransform\n",
    "    gt = image.GetGeoTransform()\n",
    "\n",
    "    # get image extent\n",
    "    minx = gt[0]\n",
    "    miny = gt[3] + width*gt[4] + height*gt[5] \n",
    "    maxx = gt[0] + width*gt[1] + height*gt[2]\n",
    "    maxy = gt[3] \n",
    "\n",
    "    \n",
    "    return [minx,maxx,maxy,miny]"
   ]
  },
  {
   "cell_type": "code",
   "execution_count": 12,
   "metadata": {},
   "outputs": [],
   "source": [
    "def create_bounding_box(extent):\n",
    "\n",
    "    return Polygon([[extent[0], extent[2]],\\\n",
    "         [extent[0], extent[3]],\\\n",
    "         [extent[1], extent[3]],\\\n",
    "         [extent[1], extent[2]]])"
   ]
  },
  {
   "cell_type": "code",
   "execution_count": 13,
   "metadata": {},
   "outputs": [],
   "source": [
    "def extract_house(df, file, image_name):\n",
    "\n",
    "    #Define set of polygons to clip\n",
    "    geomSet = df['geometry'].geometry\n",
    "    graphcount = 0\n",
    "    black_list = []\n",
    "\n",
    "    # the polygon GeoJSON geometry\n",
    "    for geoms in geomSet:\n",
    "        # load the raster, mask it by the polygon and crop it\n",
    "        with rasterio.open(file) as src:\n",
    "            out_image, out_transform = mask(src, MultiPolygon([geoms]), crop=True)\n",
    "            out_meta = src.meta.copy()\n",
    "\n",
    "        percentage_black = np.count_nonzero(out_image==0)/ (3* out_image.shape[1] * out_image.shape[2])\n",
    "        black_list.append(percentage_black)\n",
    "        if percentage_black < 0.2:\n",
    "            # save the resulting raster  \n",
    "            out_meta.update({\"driver\": \"GTiff\",\n",
    "                \"height\": out_image.shape[1],\n",
    "                \"width\": out_image.shape[2],\n",
    "            \"transform\": out_transform})\n",
    "\n",
    "            graphcount = graphcount + 1\n",
    "            output_path =  '/Users/apancham002/Documents/Projecten/Hackathon/test_images2/'+\\\n",
    "                            image_name[19:-4] + '_'+ str(graphcount) + '_'+ \"masked.jpg\" \n",
    "            with rasterio.open(output_path, \"w\", **out_meta) as dest:\n",
    "                dest.write(out_image)\n",
    "    return black_list"
   ]
  },
  {
   "cell_type": "code",
   "execution_count": 14,
   "metadata": {},
   "outputs": [
    {
     "name": "stdout",
     "output_type": "stream",
     "text": [
      "0: georeference_after%2FRescUAV_17917_Middle_modified.tif\n",
      "1: georeference_after%2FRescUAV_22917_DutchCul_modified.tif\n"
     ]
    }
   ],
   "source": [
    "list_df = []\n",
    "for ind, image_name in enumerate(image_list):\n",
    "    print(\"{}: {}\".format(ind, image_name))\n",
    "    # get abs image path\n",
    "    abs_image_path = os.path.join(image_path,image_name)\n",
    "    \n",
    "    # open file\n",
    "    image = gdal.Open(abs_image_path)\n",
    "    \n",
    "    # get image extent\n",
    "    extent = image_extent(image)\n",
    "    \n",
    "    # get bounding box\n",
    "    bounding_box = create_bounding_box(extent)\n",
    "    \n",
    "    # get overlap as first filter\n",
    "    df_overlap = df_training[df_training.geometry.centroid.within(bounding_box)]\n",
    "    \n",
    "    damage_list = extract_house(df_overlap, abs_image_path, image_name)\n",
    "    \n",
    "    df_overlap['damage_list'] = damage_list\n",
    "    \n",
    "    df_csv = df_overlap[df_overlap.damage_list < 0.2].reset_index(drop=True).reset_index()\\\n",
    "        .rename(columns={'index':'number', '_damage':'tags'})\n",
    "    \n",
    "    df_csv['image_name'] = image_name[19:-4] + '_' + (df_csv.number + 1).astype(str) + '_'+ 'masked'\n",
    "    \n",
    "    list_df.append(df_csv[['image_name']])"
   ]
  },
  {
   "cell_type": "code",
   "execution_count": 15,
   "metadata": {},
   "outputs": [],
   "source": [
    "df_overview = pd.concat(list_df)"
   ]
  },
  {
   "cell_type": "code",
   "execution_count": null,
   "metadata": {},
   "outputs": [],
   "source": [
    "df_overview.to_csv(r'/Users/apancham002/Documents/Projecten/Hackathon/test_images/test_label.csv',\\\n",
    "                  index=False)"
   ]
  },
  {
   "cell_type": "code",
   "execution_count": null,
   "metadata": {},
   "outputs": [],
   "source": [
    "# DutchCul and is overlapping with:\n",
    "# - Cul\n",
    "# - Colehill\n",
    "# - Cayhill\n",
    "\n",
    "# testfile1 is Middle and is overlapping with\n",
    "# - MtWilliam"
   ]
  }
 ],
 "metadata": {
  "kernelspec": {
   "display_name": "Python 3",
   "language": "python",
   "name": "python3"
  },
  "language_info": {
   "codemirror_mode": {
    "name": "ipython",
    "version": 3
   },
   "file_extension": ".py",
   "mimetype": "text/x-python",
   "name": "python",
   "nbconvert_exporter": "python",
   "pygments_lexer": "ipython3",
   "version": "3.6.4"
  }
 },
 "nbformat": 4,
 "nbformat_minor": 2
}
